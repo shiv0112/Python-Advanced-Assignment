{
 "cells": [
  {
   "cell_type": "markdown",
   "metadata": {},
   "source": [
    "Answer1\n",
    "\n",
    "Numpy Ndarray provides a lot of convenient and optimized methods for performing several mathematical operations on vectors.\n",
    "\n",
    "Pandas Dataframe is an in-memory 2-dimensional tabular representation of data. In simpler words, it can be seen as a spreadsheet having rows and columns.\n",
    "\n",
    "Conversion : `Dataframe=pandas.DataFrame(array)`"
   ]
  },
  {
   "cell_type": "markdown",
   "metadata": {},
   "source": [
    "Answer2\n",
    "\n",
    "Bar chart, Line Chart are used for plotting. "
   ]
  },
  {
   "cell_type": "markdown",
   "metadata": {},
   "source": [
    "Answer3\n",
    "\n",
    "Legend will help comparison between different stocks, so will be essential on a stock market chart"
   ]
  },
  {
   "cell_type": "markdown",
   "metadata": {},
   "source": [
    "Answer4\n",
    "\n",
    ": We can use start and end parameters for that. In start we write the date from where we are starting and at the end we write the end date. SO within this span we can restric the duration.Also we can use the parameters like periods for how much times we need the duration and we can also use the frequency parameter."
   ]
  },
  {
   "cell_type": "markdown",
   "metadata": {},
   "source": [
    "Answer5\n",
    "\n",
    "The 180-day moving average is represented as a line on charts and represents the average price over the past 180 days. The moving average can give traders a sense regarding whether the trend is up or down, while also identifying potential support or resistance areas."
   ]
  },
  {
   "cell_type": "code",
   "execution_count": null,
   "metadata": {},
   "outputs": [],
   "source": []
  }
 ],
 "metadata": {
  "kernelspec": {
   "display_name": "Python 3",
   "language": "python",
   "name": "python3"
  },
  "language_info": {
   "codemirror_mode": {
    "name": "ipython",
    "version": 3
   },
   "file_extension": ".py",
   "mimetype": "text/x-python",
   "name": "python",
   "nbconvert_exporter": "python",
   "pygments_lexer": "ipython3",
   "version": "3.8.5"
  }
 },
 "nbformat": 4,
 "nbformat_minor": 5
}
